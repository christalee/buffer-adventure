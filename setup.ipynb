{
 "cells": [
  {
   "cell_type": "code",
   "execution_count": 1,
   "metadata": {},
   "outputs": [],
   "source": [
    "import random\n",
    "import data\n",
    "from objects import *"
   ]
  },
  {
   "cell_type": "code",
   "execution_count": 2,
   "metadata": {},
   "outputs": [],
   "source": [
    "def create_world():\n",
    "    \"\"\"Return a dict holding all installed Places.\"\"\"\n",
    "    w: Dict[str, Place] = {}\n",
    "    for p in data.places:\n",
    "        w[p] = Place(p)\n",
    "        w[p].install()\n",
    "\n",
    "    return w\n",
    "\n",
    "\n",
    "def create_things(world):\n",
    "    for t in data.things:\n",
    "        Thing(t['name'], world[t['place']]).install()\n",
    "\n",
    "    for m in data.mobile_things:\n",
    "        Mobile_Thing(m['name'], world[m['place']]).install()\n",
    "\n",
    "    for h in data.holy_objects:\n",
    "        Holy_Object(h, random.choice(list(world.values()))).install()\n",
    "\n",
    "def create_exits(world):\n",
    "    # TODO modify Exit to be more parallel to Weapon and Thing??\n",
    "    \"\"\"Install an Exit between two Places.\"\"\"\n",
    "    for e in data.exits:\n",
    "        Exit(world[e['origin']], e['direction1'], world[e['destination']]).install()\n",
    "        Exit(world[e['destination']], e['direction2'], world[e['origin']]).install()\n",
    "\n",
    "\n",
    "def create_weapons(world):\n",
    "    for w in data.weapons:\n",
    "        Weapon(w['name'], random.choice(list(world.values())), w['damage']).install()\n",
    "\n",
    "\n",
    "def create_people(world):\n",
    "    names = data.names\n",
    "    vamp = random.choice(names)\n",
    "    names.remove(vamp)\n",
    "    Vampire(vamp, random.choice(list(world.values())), False).install()\n",
    "    for n in names:\n",
    "        Autonomous_Person(n, random.choice(list(world.values())), random.randint(0, 3), random.randint(0, 3)).install()\n",
    "\n"
   ]
  },
  {
   "cell_type": "code",
   "execution_count": 3,
   "metadata": {},
   "outputs": [],
   "source": [
    "def setup():\n",
    "    clock.reset()\n",
    "    clock.add_callback(clock.print_tick)\n",
    "\n",
    "    world = create_world()\n",
    "    create_things(world)\n",
    "    create_exits(world)\n",
    "    create_weapons(world)\n",
    "    create_people(world)\n",
    "\n",
    "    print('The Adventures of Buffer the Vampire Slayer')\n",
    "    name = input('player name: ')\n",
    "    player = Avatar(name, random.choice(list(world.values())))\n",
    "    player.install()\n",
    "    player.look()\n",
    "\n",
    "    return world, player"
   ]
  },
  {
   "cell_type": "code",
   "execution_count": 4,
   "metadata": {},
   "outputs": [
    {
     "name": "stdout",
     "output_type": "stream",
     "text": [
      "Clock.Clock.print_tick added\n",
      "grendels-den installed!\n",
      "barker-library installed!\n",
      "lobby-7 installed!\n",
      "10-250 installed!\n",
      "lobby-10 installed!\n",
      "eecs-hq installed!\n",
      "eecs-ug-office installed!\n",
      "edgerton-hall installed!\n",
      "stata-center installed!\n",
      "6001-lab installed!\n",
      "building-13 installed!\n",
      "great-court installed!\n",
      "student-center installed!\n",
      "bexley installed!\n",
      "baker installed!\n",
      "legal-seafood installed!\n",
      "graduation-stage installed!\n",
      "34-301 installed!\n",
      "senior-haus installed!\n",
      "east-campus installed!\n",
      "random-hall installed!\n",
      "coffeehouse installed!\n",
      "54-100 installed!\n",
      "roofdeck installed!\n",
      "pika installed!\n",
      "blackboard installed!\n",
      "lovely-trees installed!\n",
      "flag-pole installed!\n",
      "tons-of-code installed!\n",
      "problem-set installed!\n",
      "recitation-problem installed!\n",
      "sicp installed!\n",
      "engineering-book installed!\n",
      "diploma installed!\n",
      "crown-of-thorns installed!\n",
      "relic installed!\n",
      "holy-water installed!\n",
      "grail installed!\n",
      "holy-hand-grenade installed!\n",
      "rosary installed!\n",
      "shroud-of-turin installed!\n",
      "covenant-ark installed!\n",
      "cross installed!\n",
      "up added at lobby-10\n",
      "up installed!\n",
      "down added at 10-250\n",
      "down installed!\n",
      "up added at grendels-den\n",
      "up installed!\n",
      "down added at lobby-10\n",
      "down installed!\n",
      "up added at 10-250\n",
      "up installed!\n",
      "down added at barker-library\n",
      "down installed!\n",
      "west added at lobby-10\n",
      "west installed!\n",
      "east added at lobby-7\n",
      "east installed!\n",
      "west added at lobby-7\n",
      "west installed!\n",
      "east added at student-center\n",
      "east installed!\n",
      "south added at student-center\n",
      "south installed!\n",
      "north added at bexley\n",
      "north installed!\n",
      "west added at bexley\n",
      "west installed!\n",
      "east added at baker\n",
      "east installed!\n",
      "north added at lobby-10\n",
      "north installed!\n",
      "south added at building-13\n",
      "south installed!\n",
      "south added at lobby-10\n",
      "south installed!\n",
      "north added at great-court\n",
      "north installed!\n",
      "north added at building-13\n",
      "north installed!\n",
      "south added at edgerton-hall\n",
      "south installed!\n",
      "up added at edgerton-hall\n",
      "up installed!\n",
      "down added at 34-301\n",
      "down installed!\n",
      "up added at 34-301\n",
      "up installed!\n",
      "down added at eecs-hq\n",
      "down installed!\n",
      "east added at 34-301\n",
      "east installed!\n",
      "west added at stata-center\n",
      "west installed!\n",
      "north added at stata-center\n",
      "north installed!\n",
      "south added at stata-center\n",
      "south installed!\n",
      "up added at stata-center\n",
      "up installed!\n",
      "down added at stata-center\n",
      "down installed!\n",
      "west added at eecs-hq\n",
      "west installed!\n",
      "east added at eecs-ug-office\n",
      "east installed!\n",
      "north added at edgerton-hall\n",
      "north installed!\n",
      "south added at legal-seafood\n",
      "south installed!\n",
      "up added at eecs-hq\n",
      "up installed!\n",
      "down added at 6001-lab\n",
      "down installed!\n",
      "east added at legal-seafood\n",
      "east installed!\n",
      "west added at great-court\n",
      "west installed!\n",
      "up added at great-court\n",
      "up installed!\n",
      "down added at graduation-stage\n",
      "down installed!\n",
      "east added at lobby-10\n",
      "east installed!\n",
      "west added at 54-100\n",
      "west installed!\n",
      "east added at 54-100\n",
      "east installed!\n",
      "west added at east-campus\n",
      "west installed!\n",
      "east added at east-campus\n",
      "east installed!\n",
      "west added at senior-haus\n",
      "west installed!\n",
      "up added at student-center\n",
      "up installed!\n",
      "down added at coffeehouse\n",
      "down installed!\n",
      "north added at student-center\n",
      "north installed!\n",
      "south added at random-hall\n",
      "south installed!\n",
      "up added at random-hall\n",
      "up installed!\n",
      "down added at roofdeck\n",
      "down installed!\n",
      "west added at student-center\n",
      "west installed!\n",
      "east added at pika\n",
      "east installed!\n",
      "west added at random-hall\n",
      "west installed!\n",
      "east added at pika\n",
      "east installed!\n",
      "chair-of-the-faculty installed!\n",
      "student-riot installed!\n",
      "sicp-book installed!\n",
      "inflatable-lambda installed!\n",
      "6001-quiz installed!\n",
      "stick-of-chalk installed!\n",
      "jack-florey installed!\n",
      "jack-florey.Vampire.rove_and_attack added\n",
      "ben-bitdiddle installed!\n",
      "ben-bitdiddle.Autonomous_Person.move_and_take added\n",
      "alyssa-hacker installed!\n",
      "alyssa-hacker.Autonomous_Person.move_and_take added\n",
      "chuck-vest installed!\n",
      "chuck-vest.Autonomous_Person.move_and_take added\n",
      "course-6-frosh installed!\n",
      "course-6-frosh.Autonomous_Person.move_and_take added\n",
      "lambda-man installed!\n",
      "lambda-man.Autonomous_Person.move_and_take added\n",
      "grumpy-grad-student installed!\n",
      "grumpy-grad-student.Autonomous_Person.move_and_take added\n",
      "nostradamus installed!\n",
      "nostradamus.Autonomous_Person.move_and_take added\n",
      "bram-stoker installed!\n",
      "bram-stoker.Autonomous_Person.move_and_take added\n",
      "The Adventures of Buffer the Vampire Slayer\n",
      "player name: Talia\n",
      "Talia installed!\n",
      "You are in grendels-den\n",
      "You are not holding anything.\n",
      "You see things in the room: holy-hand-grenade, rosary, covenant-ark\n",
      "There are no other people around you.\n",
      "The exits are in directions: up\n"
     ]
    }
   ],
   "source": [
    "world, player = setup()"
   ]
  },
  {
   "cell_type": "code",
   "execution_count": 6,
   "metadata": {},
   "outputs": [
    {
     "data": {
      "text/plain": [
       "dict_keys(['__name__', '__doc__', '__package__', '__loader__', '__spec__', '__builtin__', '__builtins__', '_ih', '_oh', '_dh', 'In', 'Out', 'get_ipython', 'exit', 'quit', '_', '__', '___', '__jedi_version__', '_i', '_ii', '_iii', '_i1', 'random', 'data', 'Callable', 'Dict', 'List', 'Optional', 'Union', 'TYPE_CHECKING', 'names', 'thingfind', 'find_all', 'find_exit', 'random_exit', 'current_time', 'run_clock', 'DEBUG', 'Named_Object', 'Container', 'Clock', 'Thing', 'Mobile_Thing', 'Holy_Object', 'Weapon', 'Place', 'Exit', 'Person', 'Autonomous_Person', 'Vampire', 'Body', 'Avatar', 'clock', '_i2', 'create_world', 'create_things', 'create_exits', 'create_weapons', 'create_people', '_i3', 'setup', '_i4', 'world', 'player', '_i5', 'everything', 'p', '_i6'])"
      ]
     },
     "execution_count": 6,
     "metadata": {},
     "output_type": "execute_result"
    }
   ],
   "source": [
    "globals().keys()"
   ]
  },
  {
   "cell_type": "code",
   "execution_count": 5,
   "metadata": {},
   "outputs": [],
   "source": [
    "everything = []\n",
    "for p in world:\n",
    "    everything.extend(world[p].things)"
   ]
  },
  {
   "cell_type": "code",
   "execution_count": 12,
   "metadata": {},
   "outputs": [
    {
     "data": {
      "text/plain": [
       "[holy-hand-grenade, rosary, covenant-ark]"
      ]
     },
     "execution_count": 12,
     "metadata": {},
     "output_type": "execute_result"
    }
   ],
   "source": [
    "x = player.room_things()\n",
    "x.extend(player.people_things())\n",
    "x"
   ]
  },
  {
   "cell_type": "code",
   "execution_count": 13,
   "metadata": {},
   "outputs": [
    {
     "data": {
      "text/plain": [
       "[holy-hand-grenade, rosary, covenant-ark]"
      ]
     },
     "execution_count": 13,
     "metadata": {},
     "output_type": "execute_result"
    }
   ],
   "source": [
    "y = player.room_things() + player.people_things()\n",
    "y"
   ]
  },
  {
   "cell_type": "code",
   "execution_count": null,
   "metadata": {},
   "outputs": [],
   "source": [
    "x = ['str', 1, 2, clock]\n",
    "list(filter(lambda y: isinstance(y, Clock), x))"
   ]
  },
  {
   "cell_type": "code",
   "execution_count": null,
   "metadata": {},
   "outputs": [],
   "source": [
    "a = world['10-250']\n",
    "b = world['baker']\n",
    "c = world['stata-center']"
   ]
  },
  {
   "cell_type": "code",
   "execution_count": null,
   "metadata": {},
   "outputs": [],
   "source": [
    "n = Named_Object('test1')\n",
    "o = Named_Object('test2')\n",
    "p = Named_Object('test3')"
   ]
  },
  {
   "cell_type": "code",
   "execution_count": 17,
   "metadata": {},
   "outputs": [],
   "source": [
    "t = [1, 2, 3]\n",
    "u = [4, 5, 6]\n",
    "t.extend(u)"
   ]
  },
  {
   "cell_type": "code",
   "execution_count": 18,
   "metadata": {},
   "outputs": [
    {
     "data": {
      "text/plain": [
       "[1, 2, 3, 4, 5, 6]"
      ]
     },
     "execution_count": 18,
     "metadata": {},
     "output_type": "execute_result"
    }
   ],
   "source": [
    "t"
   ]
  },
  {
   "cell_type": "code",
   "execution_count": null,
   "metadata": {},
   "outputs": [],
   "source": [
    "\n",
    "while True:\n",
    "    action = input('What would you like to do?')\n",
    "    if action == 'q':\n",
    "        break\n",
    "    if action in ['up', 'down', 'north', 'south', 'east', 'west']:\n",
    "        player.go(action)\n",
    "    if action == 'look':\n",
    "        player.look()\n",
    "    else:\n",
    "        pass"
   ]
  },
  {
   "cell_type": "code",
   "execution_count": null,
   "metadata": {},
   "outputs": [],
   "source": [
    "random.choice(a.things).name"
   ]
  },
  {
   "cell_type": "code",
   "execution_count": null,
   "metadata": {},
   "outputs": [],
   "source": [
    "cb_list = [n.install, o.install, p.install]\n",
    "for x in cb_list:\n",
    "    print(n == x.__self__)"
   ]
  },
  {
   "cell_type": "code",
   "execution_count": null,
   "metadata": {},
   "outputs": [],
   "source": [
    "cb_dict = {n.install.__name__: n.install, str(o.install): o.install, str(p.install): p.install}"
   ]
  },
  {
   "cell_type": "code",
   "execution_count": null,
   "metadata": {},
   "outputs": [],
   "source": [
    "for x in cb_dict:\n",
    "    print(cb_dict[x] == n.install)"
   ]
  },
  {
   "cell_type": "code",
   "execution_count": null,
   "metadata": {},
   "outputs": [],
   "source": [
    "cb_dict"
   ]
  },
  {
   "cell_type": "code",
   "execution_count": null,
   "metadata": {},
   "outputs": [],
   "source": [
    "str(n.install.__self__) + '.' + str(n.install.__func__).split('.')[1].split()[0]"
   ]
  },
  {
   "cell_type": "code",
   "execution_count": null,
   "metadata": {},
   "outputs": [],
   "source": [
    "x = str(n.install).split()\n",
    "x[-1].replace('>', '.') + x[2]"
   ]
  }
 ],
 "metadata": {
  "kernelspec": {
   "display_name": "Python 3",
   "language": "python",
   "name": "python3"
  },
  "language_info": {
   "codemirror_mode": {
    "name": "ipython",
    "version": 3
   },
   "file_extension": ".py",
   "mimetype": "text/x-python",
   "name": "python",
   "nbconvert_exporter": "python",
   "pygments_lexer": "ipython3",
   "version": "3.6.8"
  }
 },
 "nbformat": 4,
 "nbformat_minor": 2
}
