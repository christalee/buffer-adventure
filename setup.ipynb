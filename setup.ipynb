{
 "cells": [
  {
   "cell_type": "code",
   "execution_count": 2,
   "metadata": {},
   "outputs": [],
   "source": [
    "import random\n",
    "import sys\n",
    "\n",
    "import data\n",
    "from objects import *"
   ]
  },
  {
   "cell_type": "code",
   "execution_count": 3,
   "metadata": {},
   "outputs": [],
   "source": [
    "def create_world():\n",
    "    \"\"\"Return a dict holding all installed Places.\"\"\"\n",
    "    w: Dict[str, Place] = {}\n",
    "    for p in data.places:\n",
    "        w[p] = Place(p)\n",
    "        w[p].install()\n",
    "\n",
    "    return w\n",
    "\n",
    "\n",
    "def create_things(world):\n",
    "    for t in data.things:\n",
    "        Thing(t['name'], world[t['place']]).install()\n",
    "\n",
    "    for m in data.mobile_things:\n",
    "        Mobile_Thing(m['name'], world[m['place']]).install()\n",
    "\n",
    "\n",
    "def create_exits(world):\n",
    "    # TODO modify Exit to be more parallel to Weapon and Thing??\n",
    "    \"\"\"Install an Exit between two Places.\"\"\"\n",
    "    for e in data.exits:\n",
    "        Exit(world[e['origin']], e['direction1'], world[e['destination']]).install()\n",
    "        Exit(world[e['destination']], e['direction2'], world[e['origin']]).install()\n",
    "\n",
    "\n",
    "def create_weapons(world):\n",
    "    for w in data.weapons:\n",
    "        Weapon(w['name'], random.choice(list(world.values())), w['damage']).install()\n",
    "\n",
    "\n",
    "def create_people(world):\n",
    "    names = data.names\n",
    "    vamp = random.choice(names)\n",
    "    names.remove(vamp)\n",
    "    Vampire(vamp, random.choice(list(world.values())), False).install()\n",
    "    for n in names:\n",
    "        Autonomous_Person(n, random.choice(list(world.values())), random.randint(0, 3), random.randint(0, 3)).install()\n",
    "\n"
   ]
  },
  {
   "cell_type": "code",
   "execution_count": 4,
   "metadata": {},
   "outputs": [],
   "source": [
    "def setup():\n",
    "#     global clock, world\n",
    "    clock.reset()\n",
    "    clock.add_callback(Callback(\"tick-printer\", clock, \"print_tick\"))\n",
    "\n",
    "    world = create_world()\n",
    "    create_things(world)\n",
    "    create_exits(world)\n",
    "    # create_weapons(world)\n",
    "    create_people(world)\n",
    "\n",
    "    print('The Adventures of Buffer the Vampire Slayer')\n",
    "    name = input('player name: ')\n",
    "    player = Avatar(name, random.choice(list(world.values())))\n",
    "    player.install()\n",
    "\n",
    "    return world, player"
   ]
  },
  {
   "cell_type": "code",
   "execution_count": null,
   "metadata": {},
   "outputs": [],
   "source": [
    "clock = Clock()\n",
    "# world, player = setup()"
   ]
  },
  {
   "cell_type": "code",
   "execution_count": null,
   "metadata": {},
   "outputs": [],
   "source": [
    "\n",
    "while True:\n",
    "    action = input('What would you like to do?')\n",
    "    if action == 'q':\n",
    "        break\n",
    "    if action in ['up', 'down', 'north', 'south', 'east', 'west']:\n",
    "        player.go(action)\n",
    "    if action == 'look':\n",
    "        player.look()\n",
    "    else:\n",
    "        pass"
   ]
  },
  {
   "cell_type": "code",
   "execution_count": null,
   "metadata": {},
   "outputs": [],
   "source": [
    "clock"
   ]
  },
  {
   "cell_type": "code",
   "execution_count": null,
   "metadata": {},
   "outputs": [],
   "source": [
    "setup()"
   ]
  },
  {
   "cell_type": "code",
   "execution_count": 5,
   "metadata": {},
   "outputs": [],
   "source": [
    "n = Named_Object('test1')\n",
    "o = Named_Object('test2')\n",
    "p = Named_Object('test3')"
   ]
  },
  {
   "cell_type": "code",
   "execution_count": 6,
   "metadata": {},
   "outputs": [
    {
     "data": {
      "text/plain": [
       "dict_keys(['__name__', '__doc__', '__package__', '__loader__', '__spec__', '__builtin__', '__builtins__', '_ih', '_oh', '_dh', 'In', 'Out', 'get_ipython', 'exit', 'quit', '_', '__', '___', '__jedi_version__', '_i', '_ii', '_iii', '_i1', 'random', 'sys', 'data', '_i2', 'Callable', 'Dict', 'List', 'Optional', 'TypeVar', 'Union', 'TYPE_CHECKING', 'names', 'thingfind', 'find_all', 'find_exit', 'random_exit', 'current_time', 'run_clock', 'Clock', 'Named_Object', 'Container', 'Thing', 'Mobile_Thing', 'Place', 'Exit', 'Person', 'Autonomous_Person', 'Body', 'Vampire', 'Avatar', 'clock', '_i3', 'create_world', 'create_things', 'create_exits', 'create_weapons', 'create_people', '_i4', 'setup', '_i5', 'n', 'o', 'p', '_i6'])"
      ]
     },
     "execution_count": 6,
     "metadata": {},
     "output_type": "execute_result"
    }
   ],
   "source": [
    "globals().keys()"
   ]
  },
  {
   "cell_type": "code",
   "execution_count": null,
   "metadata": {},
   "outputs": [],
   "source": [
    "world = create_world()"
   ]
  },
  {
   "cell_type": "code",
   "execution_count": 7,
   "metadata": {},
   "outputs": [
    {
     "name": "stdout",
     "output_type": "stream",
     "text": [
      "test1 installed!\n"
     ]
    }
   ],
   "source": [
    "n.install()"
   ]
  },
  {
   "cell_type": "code",
   "execution_count": 11,
   "metadata": {},
   "outputs": [
    {
     "name": "stdout",
     "output_type": "stream",
     "text": [
      "True\n",
      "False\n",
      "False\n"
     ]
    }
   ],
   "source": [
    "cb_list = [n.install, o.install, p.install]\n",
    "for x in cb_list:\n",
    "    print(n == x.__self__)"
   ]
  },
  {
   "cell_type": "code",
   "execution_count": 27,
   "metadata": {},
   "outputs": [
    {
     "name": "stdout",
     "output_type": "stream",
     "text": [
      "test1 installed!\n"
     ]
    }
   ],
   "source": [
    "cb_dict = {n.install.__name__: n.install, str(o.install): o.install, str(p.install): p.install}"
   ]
  },
  {
   "cell_type": "code",
   "execution_count": 23,
   "metadata": {},
   "outputs": [
    {
     "name": "stdout",
     "output_type": "stream",
     "text": [
      "True\n",
      "False\n",
      "False\n"
     ]
    }
   ],
   "source": [
    "for x in cb_dict:\n",
    "    print(cb_dict[x] == n.install)"
   ]
  },
  {
   "cell_type": "code",
   "execution_count": 28,
   "metadata": {},
   "outputs": [
    {
     "data": {
      "text/plain": [
       "{'None': <bound method Named_Object.install of test1>,\n",
       " '<bound method Named_Object.install of test2>': <bound method Named_Object.install of test2>,\n",
       " '<bound method Named_Object.install of test3>': <bound method Named_Object.install of test3>}"
      ]
     },
     "execution_count": 28,
     "metadata": {},
     "output_type": "execute_result"
    }
   ],
   "source": [
    "cb_dict"
   ]
  },
  {
   "cell_type": "code",
   "execution_count": 53,
   "metadata": {},
   "outputs": [
    {
     "data": {
      "text/plain": [
       "'test1.install'"
      ]
     },
     "execution_count": 53,
     "metadata": {},
     "output_type": "execute_result"
    }
   ],
   "source": [
    "str(n.install.__self__) + '.' + str(n.install.__func__).split('.')[1].split()[0]"
   ]
  },
  {
   "cell_type": "code",
   "execution_count": 58,
   "metadata": {},
   "outputs": [
    {
     "data": {
      "text/plain": [
       "'test1.Named_Object.install'"
      ]
     },
     "execution_count": 58,
     "metadata": {},
     "output_type": "execute_result"
    }
   ],
   "source": [
    "x = str(n.install).split()\n",
    "x[-1].replace('>', '.') + x[2]"
   ]
  },
  {
   "cell_type": "code",
   "execution_count": null,
   "metadata": {},
   "outputs": [],
   "source": []
  }
 ],
 "metadata": {
  "kernelspec": {
   "display_name": "Python 3",
   "language": "python",
   "name": "python3"
  },
  "language_info": {
   "codemirror_mode": {
    "name": "ipython",
    "version": 3
   },
   "file_extension": ".py",
   "mimetype": "text/x-python",
   "name": "python",
   "nbconvert_exporter": "python",
   "pygments_lexer": "ipython3",
   "version": "3.6.8"
  }
 },
 "nbformat": 4,
 "nbformat_minor": 2
}
